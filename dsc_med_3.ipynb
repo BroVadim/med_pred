{
  "cells": [
    {
      "cell_type": "code",
      "execution_count": null,
      "metadata": {
        "colab": {
          "base_uri": "https://localhost:8080/"
        },
        "id": "mGcTeoJ2l7M6",
        "outputId": "f6d5dea2-ff53-4a8e-e94a-e220146206da"
      },
      "outputs": [
        {
          "name": "stdout",
          "output_type": "stream",
          "text": [
            "Data files successfully import\n"
          ]
        }
      ],
      "source": [
        "!wget --no-check-certificate 'https://drive.google.com/uc?export=download&confirm=no_antivirus&id=1F_zlx6khqP8vvZoBgGru2m-cKoYA4yGY' -O mimic_synthetic_feat.name &> /dev/null\n",
        "!wget --no-check-certificate 'https://drive.google.com/uc?export=download&confirm=no_antivirus&id=1O-zoKlFplWdPLV1-OMHWusH-nB9d10jc' -O mimic_synthetic_test.data &> /dev/null\n",
        "!wget --no-check-certificate 'https://drive.google.com/uc?export=download&confirm=no_antivirus&id=1SixQE96b8AuAj_nDo-KElSXeo9Vp8BLU' -O mimic_synthetic_train.data &> /dev/null\n",
        "!wget --no-check-certificate 'https://drive.google.com/uc?export=download&confirm=no_antivirus&id=1LUqLTiYjwsZ3kHfnDABDLZZt65OPax8R' -O mimic_synthetic_train.solution &> /dev/null\n",
        "print('Data files successfully import')"
      ]
    },
    {
      "cell_type": "code",
      "execution_count": null,
      "metadata": {
        "id": "L-_Zaa5L8KZe"
      },
      "outputs": [],
      "source": [
        "!pip install pycaret &> /dev/null"
      ]
    },
    {
      "cell_type": "code",
      "execution_count": null,
      "metadata": {
        "id": "ad7rihSYhNbg"
      },
      "outputs": [],
      "source": [
        "import pandas as pd\n",
        "from google.colab import files\n",
        "from pycaret.classification import *"
      ]
    },
    {
      "cell_type": "code",
      "execution_count": null,
      "metadata": {
        "id": "VvoR0QjVJFaU"
      },
      "outputs": [],
      "source": [
        "class FrameWorker:\n",
        "  def __init__(self, features_names_file):\n",
        "    columns_names = self.text_to_list(features_names_file)\n",
        "    self.columns_names = ['index']+columns_names[:len(columns_names)-1]\n",
        "  \n",
        "  def text_to_list(self, filename):\n",
        "    res_list = []\n",
        "    try:\n",
        "      with open(filename,'r',encoding='utf-8') as file:\n",
        "        res_list = file.read().split('\\n')\n",
        "    except Exception as error:\n",
        "      print(str(error))\n",
        "    return res_list\n",
        "\n",
        "  def search_mean_values(self, data):\n",
        "    data['MEAN_HR_2DAYS'] = data[['HR_MEAN_DAY1','HR_MEAN_DAY2']].mean(axis=1)\n",
        "    data['MEAN_SYS_BP_2DAYS'] = data[['SYS_BP_MEAN_DAY1','SYS_BP_MEAN_DAY2']].mean(axis=1)\n",
        "    data['MEAN_DIAS_BP_2DAYS'] = data[['DIAS_BP_MEAN_DAY1','DIAS_BP_MEAN_DAY2']].mean(axis=1)\n",
        "    data['MEAN_MEAN_BP_2DAYS'] = data[['MEAN_BP_MEAN_DAY1','MEAN_BP_MEAN_DAY2']].mean(axis=1)\n",
        "    data['MEAN_RESP_RATE_2DAYS'] = data[['RESP_RATE_MEAN_DAY1','RESP_RATE_MEAN_DAY2']].mean(axis=1)\n",
        "    data['MEAN_TEMP_2DAYS'] = data[['TEMP_MEAN_DAY1','TEMP_MEAN_DAY2']].mean(axis=1)\n",
        "    data['MEAN_SPO2_2DAYS'] = data[['SPO2_MEAN_DAY1','SPO2_MEAN_DAY2']].mean(axis=1)\n",
        "    data['MEAN_GLUCOSE_2DAYS'] = data[['GLUCOSE_MEAN_DAY1','GLUCOSE_MEAN_DAY2']].mean(axis=1)\n",
        "    return data\n",
        "\n",
        "  def delete_columns(self, data):\n",
        "    columns_for_deleting = ['ADMITTIME','DISCHTIME','HR_MIN_DAY1', 'HR_MIN_DAY2','HR_MAX_DAY1','HR_MAX_DAY2',\n",
        "                            'HR_MEAN_DAY1','HR_MEAN_DAY2','SYS_BP_MIN_DAY1','SYS_BP_MIN_DAY2',\n",
        "                            'SYS_BP_MAX_DAY1','SYS_BP_MAX_DAY2','SYS_BP_MEAN_DAY1','SYS_BP_MEAN_DAY2',\n",
        "                            'DIAS_BP_MIN_DAY1','DIAS_BP_MIN_DAY2','DIAS_BP_MAX_DAY1','DIAS_BP_MAX_DAY2',\n",
        "                            'DIAS_BP_MEAN_DAY1','DIAS_BP_MEAN_DAY2','MEAN_BP_MIN_DAY1','MEAN_BP_MIN_DAY2',\n",
        "                            'MEAN_BP_MAX_DAY1','MEAN_BP_MAX_DAY2','MEAN_BP_MEAN_DAY1','MEAN_BP_MEAN_DAY2',\n",
        "                            'RESP_RATE_MIN_DAY1','RESP_RATE_MIN_DAY2','RESP_RATE_MAX_DAY1','RESP_RATE_MAX_DAY2',\n",
        "                            'RESP_RATE_MEAN_DAY1','RESP_RATE_MEAN_DAY2','TEMP_MIN_DAY1','TEMP_MIN_DAY2',\n",
        "                            'TEMP_MAX_DAY1','TEMP_MAX_DAY2','TEMP_MEAN_DAY1','TEMP_MEAN_DAY2',\n",
        "                            'SPO2_MIN_DAY1','SPO2_MIN_DAY2','SPO2_MAX_DAY1','SPO2_MAX_DAY2',\n",
        "                            'SPO2_MEAN_DAY1','SPO2_MEAN_DAY2','GLUCOSE_MIN_DAY1','GLUCOSE_MIN_DAY2',\n",
        "                            'GLUCOSE_MAX_DAY1','GLUCOSE_MAX_DAY2','GLUCOSE_MEAN_DAY1','GLUCOSE_MEAN_DAY2']\n",
        "    for column in data.columns:\n",
        "      if data[column].dtype=='int64' or data[column].dtype=='float64':\n",
        "        if data[column].mean()==0:\n",
        "          columns_for_deleting.append(column)\n",
        "    data = data.drop(columns=columns_for_deleting)\n",
        "    return data\n",
        "\n",
        "  def prepare_data(self, data_frame):\n",
        "    dicts = {} # словарь значений для строковых колонок\n",
        "    object_columns = [] # колонки со строковыми переменными\n",
        "    for column_name in data_frame.columns:\n",
        "      if data_frame[column_name].dtype=='object':\n",
        "        column_dict = {}\n",
        "        object_columns.append(column_name)\n",
        "        elements_list = data_frame[column_name].unique().tolist()\n",
        "        for index,element in enumerate(elements_list):\n",
        "          column_dict[element] = index\n",
        "        dicts[column_name] = column_dict\n",
        "    for column_name in object_columns:\n",
        "      data_frame[column_name] = data_frame[column_name].apply(lambda x: int(dicts[column_name][x]))\n",
        "    return data_frame\n",
        "\n",
        "  def create_frame(self, frame_file, separator):\n",
        "    data_frame = pd.read_csv(frame_file,\n",
        "                             sep=separator,\n",
        "                             encoding='utf-8',\n",
        "                             header=None,\n",
        "                             names=self.columns_names)\n",
        "    data_frame = self.search_mean_values(data_frame)\n",
        "    data_frame = self.delete_columns(data_frame)\n",
        "    data_frame = self.prepare_data(data_frame)\n",
        "    return data_frame"
      ]
    },
    {
      "cell_type": "code",
      "execution_count": null,
      "metadata": {
        "id": "DIQD56axMR_k"
      },
      "outputs": [],
      "source": [
        "fw = FrameWorker('mimic_synthetic_feat.name')"
      ]
    },
    {
      "cell_type": "markdown",
      "metadata": {
        "id": "hMpebcG9PQ_x"
      },
      "source": [
        "Получение тренировочных данных"
      ]
    },
    {
      "cell_type": "code",
      "execution_count": null,
      "metadata": {
        "id": "ZtaSWAyXMclh"
      },
      "outputs": [],
      "source": [
        "train_df = fw.create_frame('mimic_synthetic_train.data',' ')"
      ]
    },
    {
      "cell_type": "code",
      "execution_count": null,
      "metadata": {
        "colab": {
          "background_save": true
        },
        "id": "8JEUql-0t1-o"
      },
      "outputs": [],
      "source": [
        "solution = fw.text_to_list('mimic_synthetic_train.solution')[:train_df.shape[0]]"
      ]
    },
    {
      "cell_type": "code",
      "execution_count": null,
      "metadata": {
        "colab": {
          "background_save": true
        },
        "id": "vjYmVLsUlAt1"
      },
      "outputs": [],
      "source": [
        "train_df['solution'] = solution\n",
        "train_df['solution'] = train_df['solution'].apply(lambda x: '0' if x=='' else x)\n",
        "train_df['solution'] = train_df['solution'].apply(lambda x: int(x)).astype(int)"
      ]
    },
    {
      "cell_type": "code",
      "execution_count": null,
      "metadata": {
        "id": "HFr4MTBXXC36"
      },
      "outputs": [],
      "source": [
        "sol_1 = train_df[train_df['solution']==1]\n",
        "sol_0 = train_df[train_df['solution']==0][len(sol_1):len(sol_1)*25]\n",
        "res_sol_frame = pd.concat([sol_1, sol_0])"
      ]
    },
    {
      "cell_type": "code",
      "execution_count": null,
      "metadata": {
        "collapsed": true,
        "id": "jbMOGpUBkCbk"
      },
      "outputs": [],
      "source": [
        "res_sol_frame.head(2)"
      ]
    },
    {
      "cell_type": "markdown",
      "metadata": {
        "id": "5BSqqeGzPbd8"
      },
      "source": [
        "Тренировка модели предсказания"
      ]
    },
    {
      "cell_type": "code",
      "execution_count": null,
      "metadata": {
        "collapsed": true,
        "id": "Wk4KD9jmq9tG"
      },
      "outputs": [],
      "source": [
        "exp1 = setup(res_sol_frame,target='solution')"
      ]
    },
    {
      "cell_type": "code",
      "execution_count": null,
      "metadata": {
        "collapsed": true,
        "id": "Cg1aHB9o9Zaf"
      },
      "outputs": [],
      "source": [
        "best = compare_models(sort = 'AUC')"
      ]
    },
    {
      "cell_type": "code",
      "execution_count": null,
      "metadata": {
        "collapsed": true,
        "id": "rMh2CTb-9Zaf"
      },
      "outputs": [],
      "source": [
        "model = create_model('ada')"
      ]
    },
    {
      "cell_type": "code",
      "execution_count": null,
      "metadata": {
        "colab": {
          "background_save": true,
          "base_uri": "https://localhost:8080/",
          "height": 402
        },
        "collapsed": true,
        "id": "KNes-zFOjA3N",
        "outputId": "5c5e32cd-3a41-4888-d6c2-4b12b43883a8"
      },
      "outputs": [
        {
          "data": {
            "text/html": [
              "<div>\n",
              "<style scoped>\n",
              "    .dataframe tbody tr th:only-of-type {\n",
              "        vertical-align: middle;\n",
              "    }\n",
              "\n",
              "    .dataframe tbody tr th {\n",
              "        vertical-align: top;\n",
              "    }\n",
              "\n",
              "    .dataframe thead th {\n",
              "        text-align: right;\n",
              "    }\n",
              "</style>\n",
              "<table border=\"1\" class=\"dataframe\">\n",
              "  <thead>\n",
              "    <tr style=\"text-align: right;\">\n",
              "      <th></th>\n",
              "      <th>Accuracy</th>\n",
              "      <th>AUC</th>\n",
              "      <th>Recall</th>\n",
              "      <th>Prec.</th>\n",
              "      <th>F1</th>\n",
              "      <th>Kappa</th>\n",
              "      <th>MCC</th>\n",
              "    </tr>\n",
              "  </thead>\n",
              "  <tbody>\n",
              "    <tr>\n",
              "      <th>0</th>\n",
              "      <td>0.9655</td>\n",
              "      <td>0.7334</td>\n",
              "      <td>0.1333</td>\n",
              "      <td>1.0</td>\n",
              "      <td>0.2353</td>\n",
              "      <td>0.2281</td>\n",
              "      <td>0.3588</td>\n",
              "    </tr>\n",
              "    <tr>\n",
              "      <th>1</th>\n",
              "      <td>0.9665</td>\n",
              "      <td>0.7315</td>\n",
              "      <td>0.1590</td>\n",
              "      <td>1.0</td>\n",
              "      <td>0.2743</td>\n",
              "      <td>0.2663</td>\n",
              "      <td>0.3919</td>\n",
              "    </tr>\n",
              "    <tr>\n",
              "      <th>2</th>\n",
              "      <td>0.9657</td>\n",
              "      <td>0.7016</td>\n",
              "      <td>0.1385</td>\n",
              "      <td>1.0</td>\n",
              "      <td>0.2432</td>\n",
              "      <td>0.2358</td>\n",
              "      <td>0.3656</td>\n",
              "    </tr>\n",
              "    <tr>\n",
              "      <th>3</th>\n",
              "      <td>0.9640</td>\n",
              "      <td>0.6987</td>\n",
              "      <td>0.0974</td>\n",
              "      <td>1.0</td>\n",
              "      <td>0.1776</td>\n",
              "      <td>0.1717</td>\n",
              "      <td>0.3065</td>\n",
              "    </tr>\n",
              "    <tr>\n",
              "      <th>4</th>\n",
              "      <td>0.9661</td>\n",
              "      <td>0.7148</td>\n",
              "      <td>0.1531</td>\n",
              "      <td>1.0</td>\n",
              "      <td>0.2655</td>\n",
              "      <td>0.2576</td>\n",
              "      <td>0.3845</td>\n",
              "    </tr>\n",
              "    <tr>\n",
              "      <th>5</th>\n",
              "      <td>0.9636</td>\n",
              "      <td>0.7039</td>\n",
              "      <td>0.0918</td>\n",
              "      <td>1.0</td>\n",
              "      <td>0.1682</td>\n",
              "      <td>0.1626</td>\n",
              "      <td>0.2975</td>\n",
              "    </tr>\n",
              "    <tr>\n",
              "      <th>6</th>\n",
              "      <td>0.9655</td>\n",
              "      <td>0.7017</td>\n",
              "      <td>0.1378</td>\n",
              "      <td>1.0</td>\n",
              "      <td>0.2422</td>\n",
              "      <td>0.2347</td>\n",
              "      <td>0.3647</td>\n",
              "    </tr>\n",
              "    <tr>\n",
              "      <th>7</th>\n",
              "      <td>0.9644</td>\n",
              "      <td>0.7275</td>\n",
              "      <td>0.1077</td>\n",
              "      <td>1.0</td>\n",
              "      <td>0.1944</td>\n",
              "      <td>0.1882</td>\n",
              "      <td>0.3223</td>\n",
              "    </tr>\n",
              "    <tr>\n",
              "      <th>8</th>\n",
              "      <td>0.9638</td>\n",
              "      <td>0.7109</td>\n",
              "      <td>0.0923</td>\n",
              "      <td>1.0</td>\n",
              "      <td>0.1690</td>\n",
              "      <td>0.1634</td>\n",
              "      <td>0.2983</td>\n",
              "    </tr>\n",
              "    <tr>\n",
              "      <th>9</th>\n",
              "      <td>0.9655</td>\n",
              "      <td>0.7257</td>\n",
              "      <td>0.1333</td>\n",
              "      <td>1.0</td>\n",
              "      <td>0.2353</td>\n",
              "      <td>0.2281</td>\n",
              "      <td>0.3588</td>\n",
              "    </tr>\n",
              "    <tr>\n",
              "      <th>Mean</th>\n",
              "      <td>0.9651</td>\n",
              "      <td>0.7150</td>\n",
              "      <td>0.1244</td>\n",
              "      <td>1.0</td>\n",
              "      <td>0.2205</td>\n",
              "      <td>0.2136</td>\n",
              "      <td>0.3449</td>\n",
              "    </tr>\n",
              "    <tr>\n",
              "      <th>SD</th>\n",
              "      <td>0.0009</td>\n",
              "      <td>0.0128</td>\n",
              "      <td>0.0238</td>\n",
              "      <td>0.0</td>\n",
              "      <td>0.0378</td>\n",
              "      <td>0.0369</td>\n",
              "      <td>0.0338</td>\n",
              "    </tr>\n",
              "  </tbody>\n",
              "</table>\n",
              "</div>"
            ],
            "text/plain": [
              "      Accuracy     AUC  Recall  Prec.      F1   Kappa     MCC\n",
              "0       0.9655  0.7334  0.1333    1.0  0.2353  0.2281  0.3588\n",
              "1       0.9665  0.7315  0.1590    1.0  0.2743  0.2663  0.3919\n",
              "2       0.9657  0.7016  0.1385    1.0  0.2432  0.2358  0.3656\n",
              "3       0.9640  0.6987  0.0974    1.0  0.1776  0.1717  0.3065\n",
              "4       0.9661  0.7148  0.1531    1.0  0.2655  0.2576  0.3845\n",
              "5       0.9636  0.7039  0.0918    1.0  0.1682  0.1626  0.2975\n",
              "6       0.9655  0.7017  0.1378    1.0  0.2422  0.2347  0.3647\n",
              "7       0.9644  0.7275  0.1077    1.0  0.1944  0.1882  0.3223\n",
              "8       0.9638  0.7109  0.0923    1.0  0.1690  0.1634  0.2983\n",
              "9       0.9655  0.7257  0.1333    1.0  0.2353  0.2281  0.3588\n",
              "Mean    0.9651  0.7150  0.1244    1.0  0.2205  0.2136  0.3449\n",
              "SD      0.0009  0.0128  0.0238    0.0  0.0378  0.0369  0.0338"
            ]
          },
          "metadata": {},
          "output_type": "display_data"
        }
      ],
      "source": [
        "tuned_model = tune_model(model)"
      ]
    },
    {
      "cell_type": "code",
      "execution_count": null,
      "metadata": {
        "colab": {
          "background_save": true
        },
        "id": "EYbeLOeu9Zag"
      },
      "outputs": [],
      "source": [
        "model_final = finalize_model(tuned_model)"
      ]
    },
    {
      "cell_type": "markdown",
      "metadata": {
        "id": "DzTAj9I2OwOj"
      },
      "source": [
        "Предсказание на тестовых данных"
      ]
    },
    {
      "cell_type": "code",
      "execution_count": null,
      "metadata": {
        "colab": {
          "background_save": true
        },
        "id": "BYrIEDBmNe4j"
      },
      "outputs": [],
      "source": [
        "test_df = fw.create_frame('mimic_synthetic_test.data',' ')"
      ]
    },
    {
      "cell_type": "code",
      "source": [
        "predictions = predict_model(model_final, data = test_df)"
      ],
      "metadata": {
        "id": "wNyXjji-wl8z"
      },
      "execution_count": null,
      "outputs": []
    },
    {
      "cell_type": "code",
      "execution_count": null,
      "metadata": {
        "colab": {
          "background_save": true
        },
        "id": "OyEhIHI_9Zah"
      },
      "outputs": [],
      "source": [
        "with open('mimic_synthetic_test.csv','w') as file:\n",
        "    for label in predictions['Label'].tolist():\n",
        "        file.write(str(label)+'\\n')\n",
        "files.download(\"mimic_synthetic_test.csv\")        "
      ]
    }
  ],
  "metadata": {
    "colab": {
      "collapsed_sections": [],
      "name": "dsc_med_3.ipynb",
      "provenance": []
    },
    "kernelspec": {
      "display_name": "Python 3",
      "language": "python",
      "name": "python3"
    },
    "language_info": {
      "codemirror_mode": {
        "name": "ipython",
        "version": 3
      },
      "file_extension": ".py",
      "mimetype": "text/x-python",
      "name": "python",
      "nbconvert_exporter": "python",
      "pygments_lexer": "ipython3",
      "version": "3.7.4"
    }
  },
  "nbformat": 4,
  "nbformat_minor": 0
}